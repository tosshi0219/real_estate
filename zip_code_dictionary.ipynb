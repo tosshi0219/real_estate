{
 "cells": [
  {
   "cell_type": "code",
   "execution_count": 1,
   "metadata": {},
   "outputs": [],
   "source": [
    "import pandas as pd\n",
    "import pickle\n",
    "\n",
    "read_data =pd.read_csv('supplemental_data/x-ken-all.csv', encoding = 'shift-jis' ,header = None)\n",
    "zip_code = pd.DataFrame(columns = ['住所','郵便番号'])\n",
    "zip_code['郵便番号'] = read_data[2]\n",
    "zip_code['住所'] = read_data[6] + read_data[7] + read_data[8]\n",
    "zip_dict = dict(zip(zip_code['住所'],zip_code['郵便番号']))\n",
    "\n",
    "with open('supplemental_data/zipcode_dictionary.pickle','wb') as f:\n",
    "        pickle.dump(zip_dict, f)"
   ]
  },
  {
   "cell_type": "code",
   "execution_count": null,
   "metadata": {},
   "outputs": [],
   "source": []
  }
 ],
 "metadata": {
  "kernelspec": {
   "display_name": "Python 3",
   "language": "python",
   "name": "python3"
  },
  "language_info": {
   "codemirror_mode": {
    "name": "ipython",
    "version": 3
   },
   "file_extension": ".py",
   "mimetype": "text/x-python",
   "name": "python",
   "nbconvert_exporter": "python",
   "pygments_lexer": "ipython3",
   "version": "3.6.4"
  }
 },
 "nbformat": 4,
 "nbformat_minor": 2
}
