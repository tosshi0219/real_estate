{
 "cells": [
  {
   "cell_type": "code",
   "execution_count": 5,
   "metadata": {
    "scrolled": true
   },
   "outputs": [],
   "source": [
    "# libraries\n",
    "import numpy as np\n",
    "import pandas as pd\n",
    "import xgboost as xgb\n",
    "import pickle\n",
    "from datetime import datetime\n",
    "\n",
    "class Inference():\n",
    "    def __init__(self,data_version,model_version):\n",
    "        self.data_version=data_version\n",
    "        self.load_path='../intermediate_data/preprocessed_purchase_for_inference_{}.pickle'.format(self.data_version)\n",
    "        self.model_version=model_version\n",
    "        self.model_path='../model/xgb_purchase_{}.pickle'.format(self.model_version)\n",
    "        self.save_path='../intermediate_data/result_{}.pickle'.format(self.data_version)\n",
    "        \n",
    "        self.spec=self.load_prep_spec()\n",
    "        self.treasure=self.inference(self.spec)\n",
    "        self.save_treasure(self.treasure)\n",
    "        \n",
    "    def load_prep_spec(self):\n",
    "        with open(self.load_path,'rb') as f:\n",
    "            spec=pickle.load(f)\n",
    "        return spec\n",
    "\n",
    "    def load_model(self):\n",
    "        with open(self.model_path,'rb') as f:\n",
    "            model=pickle.load(f)\n",
    "        return model\n",
    "    \n",
    "    def inference(self,spec):\n",
    "        #データの前処理\n",
    "        X = spec.drop(['price','詳細情報'], axis=1).as_matrix()\n",
    "        y = spec['price']\n",
    "        indices=spec.index\n",
    "\n",
    "        #モデルのロード\n",
    "        xgb=self.load_model()\n",
    "\n",
    "        #推論\n",
    "        prediction=xgb.predict(X)\n",
    "        \n",
    "        #結果の比較\n",
    "        error=y-prediction\n",
    "        error_per=abs(error)/y*100\n",
    "        result=pd.DataFrame({\n",
    "                            'prediction':prediction,\n",
    "                            'error':error,\n",
    "                            'error_percent':error_per,\n",
    "                            },index=indices)\n",
    "        result_all=pd.concat([spec,result],axis=1)\n",
    "        treasure=result_all[(result_all['error_percent']>5)&(result_all['error']<0)]\n",
    "        \n",
    "#         #結果を出力\n",
    "#         print(result_all)\n",
    "        return treasure\n",
    " \n",
    "    def save_treasure(self,treasure):\n",
    "#         print(self.save_path)\n",
    "        with open(self.save_path,'wb') as f:\n",
    "            pickle.dump(treasure, f)\n",
    "\n",
    "if __name__ == '__main__':\n",
    "    data_version=datetime.now().strftime(\"%Y%m%d\")\n",
    "    model_version='original'\n",
    "    inf=Inference(data_version,model_version)"
   ]
  },
  {
   "cell_type": "code",
   "execution_count": null,
   "metadata": {},
   "outputs": [],
   "source": []
  }
 ],
 "metadata": {
  "kernelspec": {
   "display_name": "Python 3",
   "language": "python",
   "name": "python3"
  },
  "language_info": {
   "codemirror_mode": {
    "name": "ipython",
    "version": 3
   },
   "file_extension": ".py",
   "mimetype": "text/x-python",
   "name": "python",
   "nbconvert_exporter": "python",
   "pygments_lexer": "ipython3",
   "version": "3.6.4"
  }
 },
 "nbformat": 4,
 "nbformat_minor": 2
}
