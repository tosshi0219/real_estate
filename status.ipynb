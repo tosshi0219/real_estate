{
 "cells": [
  {
   "cell_type": "code",
   "execution_count": 1,
   "metadata": {},
   "outputs": [
    {
     "name": "stdout",
     "output_type": "stream",
     "text": [
      "model= ['model_xgb_original']\n",
      "label= ['label_encoder_20180716', 'label_encoder_20180726', 'label_encoder_20180729', 'label_encoder_original']\n",
      "spec= ['spec_original']\n",
      "inference= ['preprocessed_spec_for_inference_20180723', 'preprocessed_spec_for_inference_20180726', 'preprocessed_spec_for_inference_20180727', 'preprocessed_spec_for_inference_20180728', 'preprocessed_spec_for_inference_20180729', 'preprocessed_spec_for_inference_original']\n",
      "learning= ['preprocessed_spec_for_learning_20180729', 'preprocessed_spec_for_learning_original']\n",
      "result= ['result_20180723', 'result_20180726', 'result_20180727', 'result_20180728', 'result_20180729', 'result_original']\n"
     ]
    }
   ],
   "source": [
    "import os\n",
    "\n",
    "class Status:\n",
    "    def __init__(self):\n",
    "        self.model_path='model'\n",
    "        self.label_path='label'\n",
    "        self.data_path='intermediate_data'\n",
    "        self.result_path='result'\n",
    "        self.model_files = os.listdir(self.model_path)\n",
    "        self.label_files = os.listdir(self.label_path)\n",
    "        self.data_files = os.listdir(self.data_path)\n",
    "        self.result_files = os.listdir(self.result_path)\n",
    "\n",
    "    def model_version(self):\n",
    "        models=[f[:-7] for f in self.model_files if f.find('pickle')!=-1]\n",
    "        models.sort()\n",
    "        return models\n",
    "\n",
    "    def label_version(self):\n",
    "        labels=[f[:-7] for f in self.label_files if f.find('pickle')!=-1]\n",
    "        labels.sort()\n",
    "        return labels\n",
    "\n",
    "    def spec_version(self):\n",
    "        spec_data=[f[:-7] for f in self.data_files if (f.find('pickle')!=-1)&(f[:4]=='spec')]\n",
    "        spec_data.sort()\n",
    "        return spec_data    \n",
    "\n",
    "    def inference_version(self):\n",
    "        inference_data=[f[:-7] for f in self.data_files if (f.find('pickle')!=-1)&(f[:4]=='prep')&(f.find('inference')!=-1)]\n",
    "        inference_data.sort()\n",
    "        return inference_data\n",
    "\n",
    "    def learning_version(self):\n",
    "        learning_data=[f[:-7] for f in self.data_files if (f.find('pickle')!=-1)&(f[:4]=='prep')&(f.find('learning')!=-1)]\n",
    "        learning_data.sort()\n",
    "        return learning_data\n",
    "\n",
    "    def result_version(self):\n",
    "        result_data=[f[:-7] for f in self.result_files if (f.find('pickle')!=-1)]\n",
    "        result_data.sort()\n",
    "        return result_data\n",
    "\n",
    "if __name__ == '__main__':\n",
    "    status=Status()\n",
    "    models=status.model_version()\n",
    "    labels=status.label_version()\n",
    "    spec_data=status.spec_version()\n",
    "    inference_data=status.inference_version()\n",
    "    learning_data=status.learning_version()\n",
    "    result_data=status.result_version()\n",
    "    print('model=',models)\n",
    "    print('label=',labels)\n",
    "    print('spec=',spec_data)\n",
    "    print('inference=',inference_data)\n",
    "    print('learning=',learning_data)\n",
    "    print('result=',result_data)    "
   ]
  },
  {
   "cell_type": "code",
   "execution_count": null,
   "metadata": {},
   "outputs": [],
   "source": []
  }
 ],
 "metadata": {
  "kernelspec": {
   "display_name": "Python 3",
   "language": "python",
   "name": "python3"
  },
  "language_info": {
   "codemirror_mode": {
    "name": "ipython",
    "version": 3
   },
   "file_extension": ".py",
   "mimetype": "text/x-python",
   "name": "python",
   "nbconvert_exporter": "python",
   "pygments_lexer": "ipython3",
   "version": "3.6.4"
  }
 },
 "nbformat": 4,
 "nbformat_minor": 2
}
